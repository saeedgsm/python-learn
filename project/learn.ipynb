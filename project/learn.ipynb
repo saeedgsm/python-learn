{
 "cells": [
  {
   "cell_type": "code",
   "execution_count": 2,
   "id": "ec395f75",
   "metadata": {},
   "outputs": [],
   "source": [
    "input_var = input(\"please enter your age:\")"
   ]
  },
  {
   "cell_type": "code",
   "execution_count": 3,
   "id": "925fa091",
   "metadata": {},
   "outputs": [
    {
     "data": {
      "text/plain": [
       "str"
      ]
     },
     "execution_count": 3,
     "metadata": {},
     "output_type": "execute_result"
    }
   ],
   "source": [
    "type(input_var)"
   ]
  },
  {
   "cell_type": "code",
   "execution_count": 5,
   "id": "3b07e63f",
   "metadata": {},
   "outputs": [
    {
     "data": {
      "text/plain": [
       "12"
      ]
     },
     "execution_count": 5,
     "metadata": {},
     "output_type": "execute_result"
    }
   ],
   "source": [
    "user_age=int(input_var)\n",
    "type(user_age)\n",
    "user_age"
   ]
  },
  {
   "cell_type": "code",
   "execution_count": null,
   "id": "efb9686b",
   "metadata": {},
   "outputs": [],
   "source": [
    "if user_age > 18:\n",
    "    print('')"
   ]
  },
  {
   "cell_type": "code",
   "execution_count": 1,
   "id": "6798f833",
   "metadata": {},
   "outputs": [
    {
     "name": "stdout",
     "output_type": "stream",
     "text": [
      "is nice!\n"
     ]
    }
   ],
   "source": [
    "score1 = 10\n",
    "score2 = 20\n",
    "\n",
    "if score1 > 9 and score2 < 21:\n",
    "    print(\"is nice!\")\n",
    "elif score1 < 10 or score2 < 16:\n",
    "    print('is not good!')\n",
    "else:\n",
    "    print('is so bad!')"
   ]
  }
 ],
 "metadata": {
  "kernelspec": {
   "display_name": "learning_venv",
   "language": "python",
   "name": "python3"
  },
  "language_info": {
   "codemirror_mode": {
    "name": "ipython",
    "version": 3
   },
   "file_extension": ".py",
   "mimetype": "text/x-python",
   "name": "python",
   "nbconvert_exporter": "python",
   "pygments_lexer": "ipython3",
   "version": "3.13.0"
  }
 },
 "nbformat": 4,
 "nbformat_minor": 5
}
